{
 "cells": [
  {
   "cell_type": "code",
   "execution_count": 2,
   "metadata": {},
   "outputs": [
    {
     "name": "stdout",
     "output_type": "stream",
     "text": [
      "8\n"
     ]
    }
   ],
   "source": [
    "array = [3,2,-6,4,-1,5]\n",
    "\n",
    "def maxsum(array):\n",
    "    F = [0]*len(array)\n",
    "    F[0] = array[0]\n",
    "    res = 0\n",
    "    for i in range(1,len(array)):\n",
    "        \n",
    "        F[i] = F[i-1]+array[i]\n",
    "        res = max(res, F[i])\n",
    "        if F[i]<=0:\n",
    "            F[i] = 0\n",
    "    \n",
    "    return res\n",
    "\n",
    "result = maxsum(array)\n",
    "print(result)"
   ]
  },
  {
   "cell_type": "code",
   "execution_count": null,
   "metadata": {},
   "outputs": [],
   "source": []
  }
 ],
 "metadata": {
  "kernelspec": {
   "display_name": "Python 3",
   "language": "python",
   "name": "python3"
  },
  "language_info": {
   "codemirror_mode": {
    "name": "ipython",
    "version": 3
   },
   "file_extension": ".py",
   "mimetype": "text/x-python",
   "name": "python",
   "nbconvert_exporter": "python",
   "pygments_lexer": "ipython3",
   "version": "3.7.2"
  }
 },
 "nbformat": 4,
 "nbformat_minor": 2
}
