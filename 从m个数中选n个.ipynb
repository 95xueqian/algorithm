{
 "cells": [
  {
   "cell_type": "code",
   "execution_count": 14,
   "metadata": {},
   "outputs": [
    {
     "name": "stdout",
     "output_type": "stream",
     "text": [
      "[] 4\n",
      "[5] 3\n",
      "[5] 2\n",
      "[5] 1\n",
      "[5] 0\n",
      "[] 3\n",
      "[4] 2\n",
      "[4] 1\n",
      "[4] 0\n",
      "[] 2\n",
      "[3] 1\n",
      "[3] 0\n",
      "[] 1\n",
      "[2] 0\n",
      "[[4, 5], [3, 5], [2, 5], [1, 5], [3, 4], [2, 4], [1, 4], [2, 3], [1, 3], [1, 2]]\n"
     ]
    }
   ],
   "source": [
    "arr=[1,2,3,4,5]\n",
    "res = []\n",
    "temp=[]\n",
    "def helper(arr,m,k,temp):\n",
    "    if m==0:\n",
    "        res.append(temp)\n",
    "    else:\n",
    "        for i in range(k,m-2,-1):\n",
    "            #temp=[arr[i]]+temp\n",
    "            print(temp,i)\n",
    "            helper(arr,m-1,i-1,[arr[i]]+temp)\n",
    "helper(arr,2,4,temp)\n",
    "print(res)"
   ]
  }
 ],
 "metadata": {
  "kernelspec": {
   "display_name": "Python 3",
   "language": "python",
   "name": "python3"
  },
  "language_info": {
   "codemirror_mode": {
    "name": "ipython",
    "version": 3
   },
   "file_extension": ".py",
   "mimetype": "text/x-python",
   "name": "python",
   "nbconvert_exporter": "python",
   "pygments_lexer": "ipython3",
   "version": "3.7.2"
  }
 },
 "nbformat": 4,
 "nbformat_minor": 2
}
