{
 "cells": [
  {
   "cell_type": "code",
   "execution_count": null,
   "metadata": {},
   "outputs": [],
   "source": []
  },
  {
   "cell_type": "code",
   "execution_count": 63,
   "metadata": {},
   "outputs": [],
   "source": [
    "class Node:\n",
    "    def __init__ (self, val):\n",
    "        self.val = val\n",
    "        self.next = None"
   ]
  },
  {
   "cell_type": "code",
   "execution_count": 64,
   "metadata": {},
   "outputs": [
    {
     "name": "stdout",
     "output_type": "stream",
     "text": [
      "list length: 8\n",
      "4\n",
      "1\n",
      "7\n",
      "5\n",
      "3\n",
      "2\n",
      "6\n",
      "8\n"
     ]
    }
   ],
   "source": [
    "def creatlist(array):\n",
    "    print(\"list length:\",len(array))\n",
    "    pre = Node(array[0])\n",
    "    node = pre\n",
    "    for i in range(1,len(array)):\n",
    "        node.next = Node(array[i])\n",
    "        node = node.next\n",
    "    return pre\n",
    "def printlist(root):    \n",
    "    p = root\n",
    "    while(p):\n",
    "        print(p.val)\n",
    "        p = p.next\n",
    "array = [4,1,7,5,3,2,6,8]\n",
    "head = creatlist(array)\n",
    "printlist(head)       "
   ]
  },
  {
   "cell_type": "code",
   "execution_count": 65,
   "metadata": {},
   "outputs": [],
   "source": [
    "def searchend(head):\n",
    "    p = head\n",
    "    while(p.next):\n",
    "        p = p.next\n",
    "    return p\n",
    "\n",
    "def singlelist(root, end):\n",
    "    \n",
    "    if (not root) or root == end:\n",
    "        return\n",
    "    key = root.val\n",
    "    p1 = root\n",
    "    p2 = p1.next\n",
    "    while(p2 != end):\n",
    "        if p2.val < key:\n",
    "            p1 = p1.next\n",
    "            if p1 != p2:\n",
    "                temp = p1.val\n",
    "                p1.val = p2.val\n",
    "                p2.val = temp\n",
    "        p2 = p2.next\n",
    "    root.val = p1.val\n",
    "    p1.val = key \n",
    "    singlelist(p1.next , end)\n",
    "    singlelist(root, p1)\n",
    "\n",
    "    \n",
    "        "
   ]
  },
  {
   "cell_type": "code",
   "execution_count": 66,
   "metadata": {},
   "outputs": [
    {
     "name": "stdout",
     "output_type": "stream",
     "text": [
      "8\n",
      "4\n",
      "1\n",
      "7\n",
      "5\n",
      "3\n",
      "2\n",
      "6\n",
      "8\n",
      "sorted\n",
      "1\n",
      "2\n",
      "3\n",
      "4\n",
      "5\n",
      "6\n",
      "7\n",
      "8\n"
     ]
    }
   ],
   "source": [
    "end = searchend(head)\n",
    "print(end.val)\n",
    "printlist(head)\n",
    "singlelist(head,None)\n",
    "print(\"sorted\")\n",
    "printlist( head)"
   ]
  },
  {
   "cell_type": "code",
   "execution_count": null,
   "metadata": {},
   "outputs": [],
   "source": []
  }
 ],
 "metadata": {
  "kernelspec": {
   "display_name": "Python 3",
   "language": "python",
   "name": "python3"
  },
  "language_info": {
   "codemirror_mode": {
    "name": "ipython",
    "version": 3
   },
   "file_extension": ".py",
   "mimetype": "text/x-python",
   "name": "python",
   "nbconvert_exporter": "python",
   "pygments_lexer": "ipython3",
   "version": "3.7.2"
  }
 },
 "nbformat": 4,
 "nbformat_minor": 2
}
