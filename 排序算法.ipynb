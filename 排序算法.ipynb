{
 "cells": [
  {
   "cell_type": "code",
   "execution_count": 7,
   "metadata": {},
   "outputs": [
    {
     "name": "stdout",
     "output_type": "stream",
     "text": [
      "0.00018787384033203125\n",
      "[1, 2, 3, 4, 4, 6, 8, 9]\n"
     ]
    }
   ],
   "source": [
    "# 快排\n",
    "import time\n",
    "t1 = time.time()\n",
    "def quicksort(array):\n",
    "    if len(array)<2:\n",
    "        return array\n",
    "    length = len(array)\n",
    "    key = array[0]\n",
    "    i = 0\n",
    "    j = length-1\n",
    "    while(i < j):\n",
    "        while(j>i and array[j] >= key):\n",
    "            j-=1\n",
    "        array[i], array[j] = array[j], array[i]\n",
    "        while(j>i and array[i] <= key):\n",
    "            i+=1\n",
    "        array[i], array[j] = array[j], array[i]\n",
    "    array[i] = key\n",
    "    left = quicksort(array[:i])\n",
    "    right = quicksort(array[i+1:])\n",
    "    return left+[key]+right\n",
    "t2 = time.time()\n",
    "\n",
    "\n",
    "array = [9,4,1,3,6,4,8,2]\n",
    "res = quicksort(array)\n",
    "print(t2-t1)\n",
    "print(res)"
   ]
  },
  {
   "cell_type": "code",
   "execution_count": 8,
   "metadata": {},
   "outputs": [
    {
     "name": "stdout",
     "output_type": "stream",
     "text": [
      "5.3882598876953125e-05\n",
      "[1, 2, 3, 4, 4, 6, 8, 9]\n"
     ]
    }
   ],
   "source": [
    "#归并排序\n",
    "def merge(left,right):\n",
    "    res = []\n",
    "    length1 = len(left)\n",
    "    length2 = len(right)\n",
    "    i = 0\n",
    "    j = 0\n",
    "    while(i < length1 and j < length2):\n",
    "        if left[i] < right[j]:\n",
    "            res.append(left[i])\n",
    "            i += 1\n",
    "        else:\n",
    "            res.append(right[j])\n",
    "            j += 1\n",
    "    res += left[i:]\n",
    "    res += right[j:]\n",
    "    return res\n",
    "def mergesort(array):\n",
    "    length = len(array)\n",
    "    if length<2:\n",
    "        return array\n",
    "    mid = length//2\n",
    "    left = mergesort(array[:mid])\n",
    "    right = mergesort(array[mid:])\n",
    "    return merge(left, right)\n",
    " \n",
    "array = [9,4,1,3,6,4,8,2]\n",
    "t1 = time.time()\n",
    "res = mergesort(array)\n",
    "t2 = time.time()\n",
    "print(t2-t1)\n",
    "print(res)"
   ]
  },
  {
   "cell_type": "code",
   "execution_count": null,
   "metadata": {},
   "outputs": [],
   "source": []
  }
 ],
 "metadata": {
  "kernelspec": {
   "display_name": "Python 3",
   "language": "python",
   "name": "python3"
  },
  "language_info": {
   "codemirror_mode": {
    "name": "ipython",
    "version": 3
   },
   "file_extension": ".py",
   "mimetype": "text/x-python",
   "name": "python",
   "nbconvert_exporter": "python",
   "pygments_lexer": "ipython3",
   "version": "3.7.2"
  }
 },
 "nbformat": 4,
 "nbformat_minor": 2
}
