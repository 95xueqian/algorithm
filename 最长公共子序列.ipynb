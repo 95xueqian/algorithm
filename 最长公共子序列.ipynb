{
 "cells": [
  {
   "cell_type": "code",
   "execution_count": 29,
   "metadata": {},
   "outputs": [
    {
     "name": "stdout",
     "output_type": "stream",
     "text": [
      "[0, 0, 0, 0, 0, 0, 0, 0, 0, 0]\n",
      "[0, 0, 0, 0, 0, 0, 0, 0, 0, 0]\n",
      "[0, 1, 1, 1, 1, 1, 1, 1, 1, 1]\n",
      "[0, 1, 1, 1, 2, 2, 2, 2, 2, 2]\n",
      "[0, 1, 2, 2, 2, 2, 2, 2, 2, 2]\n",
      "[0, 1, 2, 2, 2, 2, 3, 3, 3, 3]\n",
      "[0, 1, 2, 3, 3, 3, 3, 4, 4, 4]\n",
      "[0, 1, 2, 3, 3, 3, 3, 4, 4, 4]\n",
      "5\n"
     ]
    }
   ],
   "source": [
    "array2 = [1,3,4,5,6,7,7,8]\n",
    "array1 = [3,5,7,4,8,6,7,8,2]\n",
    "\n",
    "def maxlength(array1, array2):\n",
    "    temp = [0]*(len(array1)+1)\n",
    "    for i in range(1, len(array2)+1):\n",
    "        print(temp)\n",
    "        if array2[i-1] == array2[i-2]:\n",
    "            continue\n",
    "        for j in range(1, len(array1)+1):\n",
    "            if array1[j-1] == array2[i-1]:\n",
    "                temp[j] = max(temp[j-1]+1,temp[j])\n",
    "            else:\n",
    "                temp[j] = max(temp[j], temp[j-1]) \n",
    "    return temp[-1]\n",
    "\n",
    "length = maxlength(array1, array2)\n",
    "print(length)"
   ]
  },
  {
   "cell_type": "code",
   "execution_count": null,
   "metadata": {},
   "outputs": [],
   "source": []
  },
  {
   "cell_type": "code",
   "execution_count": null,
   "metadata": {},
   "outputs": [],
   "source": []
  },
  {
   "cell_type": "code",
   "execution_count": null,
   "metadata": {},
   "outputs": [],
   "source": []
  }
 ],
 "metadata": {
  "kernelspec": {
   "display_name": "Python 3",
   "language": "python",
   "name": "python3"
  },
  "language_info": {
   "codemirror_mode": {
    "name": "ipython",
    "version": 3
   },
   "file_extension": ".py",
   "mimetype": "text/x-python",
   "name": "python",
   "nbconvert_exporter": "python",
   "pygments_lexer": "ipython3",
   "version": "3.7.2"
  }
 },
 "nbformat": 4,
 "nbformat_minor": 2
}
