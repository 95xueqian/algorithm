{
 "cells": [
  {
   "cell_type": "code",
   "execution_count": null,
   "metadata": {},
   "outputs": [],
   "source": [
    "# 给一组排序好的数，求和为s的两个数，只返回乘积最大的那组\n",
    "# 两个指针，一个从前往后，一个从后往前，如果两者和大于S，后面的指针往前移，如果小于S，前面的指针往后移"
   ]
  },
  {
   "cell_type": "code",
   "execution_count": 1,
   "metadata": {},
   "outputs": [
    {
     "name": "stdout",
     "output_type": "stream",
     "text": [
      "[3, 11]\n"
     ]
    }
   ],
   "source": [
    "def FindNumbersWithSum(array, s):\n",
    "    length = len(array)\n",
    "    i = 0\n",
    "    j = length-1\n",
    "    while(i < j):\n",
    "        if array[i]+array[j] == s:\n",
    "            return [array[i], array[j] ]\n",
    "        elif array[i]+array[j] > s:\n",
    "            j -= 1\n",
    "        else:\n",
    "            i +=1\n",
    "    return None\n",
    "\n",
    "\n",
    "array = [1,3,4,7,11,12,23]\n",
    "res = FindNumbersWithSum(array,14)\n",
    "print(res)"
   ]
  }
 ],
 "metadata": {
  "kernelspec": {
   "display_name": "Python 3",
   "language": "python",
   "name": "python3"
  },
  "language_info": {
   "codemirror_mode": {
    "name": "ipython",
    "version": 3
   },
   "file_extension": ".py",
   "mimetype": "text/x-python",
   "name": "python",
   "nbconvert_exporter": "python",
   "pygments_lexer": "ipython3",
   "version": "3.7.2"
  }
 },
 "nbformat": 4,
 "nbformat_minor": 2
}
