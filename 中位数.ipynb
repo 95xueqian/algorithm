{
 "cells": [
  {
   "cell_type": "code",
   "execution_count": 9,
   "metadata": {},
   "outputs": [],
   "source": [
    "# 求一组数中的中位数\n",
    "# 最大堆和最小堆\n",
    "# 将前一半的数存在最大堆中，后一半的数保存在最小堆中\n"
   ]
  },
  {
   "cell_type": "code",
   "execution_count": 10,
   "metadata": {},
   "outputs": [
    {
     "name": "stdout",
     "output_type": "stream",
     "text": [
      "[-4, -1, -3]\n",
      "[5, 8, 6]\n",
      "4.5\n"
     ]
    }
   ],
   "source": [
    "from heapq import *\n",
    "def middle(array):\n",
    "    length= len(array)\n",
    "    maxheap = []\n",
    "    minheap = []\n",
    "    \n",
    "    for i in range(1, len(array)+1):\n",
    "        num = array[i-1]\n",
    "        if i & 1 == 0:\n",
    "            if len(maxheap) > 0 and -1*num < -1*maxheap[0]:\n",
    "                heappush(maxheap,-1*num)\n",
    "                num =-1* heappop(maxheap) \n",
    "            heappush(minheap, num)\n",
    "        else:\n",
    "            if len(minheap) > 0 and num > minheap[0]:\n",
    "                heappush(minheap, num)\n",
    "                num = heappop(minheap)\n",
    "            heappush(maxheap, -1*num)\n",
    "    print(maxheap)\n",
    "    print(minheap)\n",
    "    if length & 1 ==1:\n",
    "        return -1*maxheap[0]\n",
    "    else:\n",
    "        return (-1*maxheap[0]+minheap[0]) /2\n",
    "    \n",
    "array = [1,4,6,3,8,5]\n",
    "res = middle(array)\n",
    "print(res)"
   ]
  },
  {
   "cell_type": "code",
   "execution_count": null,
   "metadata": {},
   "outputs": [],
   "source": [
    "\n"
   ]
  }
 ],
 "metadata": {
  "kernelspec": {
   "display_name": "Python 3",
   "language": "python",
   "name": "python3"
  },
  "language_info": {
   "codemirror_mode": {
    "name": "ipython",
    "version": 3
   },
   "file_extension": ".py",
   "mimetype": "text/x-python",
   "name": "python",
   "nbconvert_exporter": "python",
   "pygments_lexer": "ipython3",
   "version": "3.7.2"
  }
 },
 "nbformat": 4,
 "nbformat_minor": 2
}
