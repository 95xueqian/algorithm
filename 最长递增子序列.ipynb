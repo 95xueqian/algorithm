{
 "cells": [
  {
   "cell_type": "code",
   "execution_count": 1,
   "metadata": {},
   "outputs": [
    {
     "name": "stdout",
     "output_type": "stream",
     "text": [
      "5\n"
     ]
    }
   ],
   "source": [
    "array = [3,2,4,6,5,7,8,9,10]\n",
    "\n",
    "def maxlength(array):\n",
    "    F = [1]*len(array)\n",
    "    res = 1\n",
    "    for i in range(1,len(array)):\n",
    "        if array[i] > array[i-1]:\n",
    "            F[i] = F[i-1]+1\n",
    "            res = max(F[i], res)\n",
    "    \n",
    "    return res\n",
    "\n",
    "length = maxlength(array)\n",
    "print(length)"
   ]
  },
  {
   "cell_type": "code",
   "execution_count": null,
   "metadata": {},
   "outputs": [],
   "source": []
  }
 ],
 "metadata": {
  "kernelspec": {
   "display_name": "Python 3",
   "language": "python",
   "name": "python3"
  },
  "language_info": {
   "codemirror_mode": {
    "name": "ipython",
    "version": 3
   },
   "file_extension": ".py",
   "mimetype": "text/x-python",
   "name": "python",
   "nbconvert_exporter": "python",
   "pygments_lexer": "ipython3",
   "version": "3.7.2"
  }
 },
 "nbformat": 4,
 "nbformat_minor": 2
}
