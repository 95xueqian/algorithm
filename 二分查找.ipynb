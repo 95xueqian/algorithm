{
 "cells": [
  {
   "cell_type": "code",
   "execution_count": 4,
   "metadata": {},
   "outputs": [
    {
     "name": "stdout",
     "output_type": "stream",
     "text": [
      "4\n"
     ]
    }
   ],
   "source": [
    "# 给一个排序数组，和要查找的数，如果该数存在，则返回下标，不存在返回-1\n",
    "def binarysearch(array, k):\n",
    "    length = len(array)\n",
    "    i =0 \n",
    "    j = length-1\n",
    "    \n",
    "    while(i<=j):\n",
    "        mid = (i+j)//2\n",
    "        if array[mid] == k:\n",
    "            return mid\n",
    "        elif array[mid] > k:\n",
    "            j = mid-1\n",
    "        else:\n",
    "            i = mid+1\n",
    "    return -1\n",
    "\n",
    "\n",
    "array = [1,3,5,6,8,10]\n",
    "ind = binarysearch(array,8)\n",
    "print(ind)"
   ]
  }
 ],
 "metadata": {
  "kernelspec": {
   "display_name": "Python 3",
   "language": "python",
   "name": "python3"
  },
  "language_info": {
   "codemirror_mode": {
    "name": "ipython",
    "version": 3
   },
   "file_extension": ".py",
   "mimetype": "text/x-python",
   "name": "python",
   "nbconvert_exporter": "python",
   "pygments_lexer": "ipython3",
   "version": "3.7.2"
  }
 },
 "nbformat": 4,
 "nbformat_minor": 2
}
