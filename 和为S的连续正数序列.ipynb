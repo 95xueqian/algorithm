{
 "cells": [
  {
   "cell_type": "code",
   "execution_count": null,
   "metadata": {},
   "outputs": [],
   "source": [
    "#输出所有和为S的连续正数序列。序列内按照从小至大的顺序，序列间按照开始数字从小到大的顺序\n",
    "# 两个指针，从1，2开始，如果和小于S，快指针往后移，如果和大于S，慢指针往后移，注意更新和，如果和等于S，加入返回数组中，\n",
    "#同时慢指针往后移"
   ]
  },
  {
   "cell_type": "code",
   "execution_count": 8,
   "metadata": {},
   "outputs": [
    {
     "name": "stdout",
     "output_type": "stream",
     "text": [
      "[[1, 2]]\n"
     ]
    }
   ],
   "source": [
    "def FindContinuousSequence(tsum):\n",
    "    # write code here\n",
    "    res = []\n",
    "    i = 1\n",
    "    j = 2\n",
    "    s = 3\n",
    "    while(j<=(tsum//2)+1):\n",
    "        if s == tsum:\n",
    "            res.append([k for k in range(i,j+1)])\n",
    "            s -=i\n",
    "            i +=1\n",
    "\n",
    "        elif s > tsum:\n",
    "            s -=i\n",
    "            i +=1\n",
    "        else:\n",
    "            j +=1\n",
    "            s +=j\n",
    "    return res\n",
    "\n",
    "\n",
    "res = FindContinuousSequence(3)\n",
    "print(res)"
   ]
  }
 ],
 "metadata": {
  "kernelspec": {
   "display_name": "Python 3",
   "language": "python",
   "name": "python3"
  },
  "language_info": {
   "codemirror_mode": {
    "name": "ipython",
    "version": 3
   },
   "file_extension": ".py",
   "mimetype": "text/x-python",
   "name": "python",
   "nbconvert_exporter": "python",
   "pygments_lexer": "ipython3",
   "version": "3.7.2"
  }
 },
 "nbformat": 4,
 "nbformat_minor": 2
}
