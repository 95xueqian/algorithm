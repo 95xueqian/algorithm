{
 "cells": [
  {
   "cell_type": "code",
   "execution_count": null,
   "metadata": {},
   "outputs": [],
   "source": [
    "# 从一组数中找到第k大的数\n",
    "# 使用最小堆    大小为K，依次遍历每个数，堆中元素个数如果小于K的话，直接加入堆中，否则如果该数大于堆顶，\n",
    "# 将该数加入堆中，并将堆顶pop出来，最后返回堆顶"
   ]
  },
  {
   "cell_type": "code",
   "execution_count": 1,
   "metadata": {},
   "outputs": [
    {
     "name": "stdout",
     "output_type": "stream",
     "text": [
      "6\n"
     ]
    }
   ],
   "source": [
    "from heapq import *\n",
    "\n",
    "def topk(array, k):\n",
    "    minheap = []\n",
    "    for i in range(len(array)):\n",
    "        if i < k :\n",
    "            heappush(minheap, array[i])\n",
    "        else:\n",
    "            heappushpop(minheap, array[i])\n",
    "    return heappop(minheap)\n",
    "\n",
    "array = [1,4,6,3,9,7]\n",
    "k = 3\n",
    "res = topk(array, k)\n",
    "print(res)\n",
    "    "
   ]
  },
  {
   "cell_type": "code",
   "execution_count": null,
   "metadata": {},
   "outputs": [],
   "source": []
  }
 ],
 "metadata": {
  "kernelspec": {
   "display_name": "Python 3",
   "language": "python",
   "name": "python3"
  },
  "language_info": {
   "codemirror_mode": {
    "name": "ipython",
    "version": 3
   },
   "file_extension": ".py",
   "mimetype": "text/x-python",
   "name": "python",
   "nbconvert_exporter": "python",
   "pygments_lexer": "ipython3",
   "version": "3.7.2"
  }
 },
 "nbformat": 4,
 "nbformat_minor": 2
}
